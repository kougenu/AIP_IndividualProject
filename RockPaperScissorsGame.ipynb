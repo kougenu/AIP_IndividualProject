{
 "cells": [
  {
   "cell_type": "markdown",
   "metadata": {},
   "source": [
    "# Individual Project Theme 1\n",
    "## Rock Paper Scissors Game"
   ]
  },
  {
   "cell_type": "markdown",
   "metadata": {},
   "source": [
    "**How to use this notebook and complete the project?**\n",
    "\n",
    "1. You need to answer all required questions by answering in the markdown cell.\n",
    "2. Read the instruction and fill in the #todo sections.\n",
    "3. Run all the cells to store the results of each codes.\n",
    "4. Save this notebook by clicking on `File`, then click `Download as`, choose `HTML`.\n",
    "5. Push this notebook to your GitHub reporitory by creating a new repository, named `AIP_IndividualProject`. Set this repository as `Private` until the day of your submission, which is on *3rd July 2019, 1.30 PM*.\n"
   ]
  },
  {
   "cell_type": "markdown",
   "metadata": {},
   "source": [
    "**Introduction**\n",
    "\n",
    "Have you ever played any rock, paper, scissors game? In Japanese language it is called as \"じゃんけん\". How about in your home country?\n",
    "In Malaysia, we have two versions of rock, paper, scissors game. The other version, we use rock, bird and water. "
   ]
  },
  {
   "cell_type": "markdown",
   "metadata": {},
   "source": [
    "**Question 1**: \n",
    "\n",
    "What is your home country version of rock, paper, scissors game looks like?"
   ]
  },
  {
   "cell_type": "markdown",
   "metadata": {},
   "source": [
    "**Answer**:It's a game for children or it's a way to make choice\n"
   ]
  },
  {
   "cell_type": "markdown",
   "metadata": {},
   "source": [
    "In this project, you are going to make a Rock, Paper, Scissors game and play against the computer.\n",
    "\n",
    "Rules: You and the computer both choose rock, paper or scissors. The winner is decided by these rules:\n",
    "\n",
    "- Rock vs Scissors (Rock win)\n",
    "- Paper vs Rock (Paper win)\n",
    "- Scissors vs Paper (Scissors win)"
   ]
  },
  {
   "cell_type": "markdown",
   "metadata": {},
   "source": [
    "**Step 1**\n",
    "\n",
    "Import all the necessary libraries."
   ]
  },
  {
   "cell_type": "code",
   "execution_count": 1,
   "metadata": {},
   "outputs": [],
   "source": [
    "# import random\n",
    "import random"
   ]
  },
  {
   "cell_type": "markdown",
   "metadata": {},
   "source": [
    "**Question 2:**\n",
    "\n",
    "Draw a flowchart to write the program of this game. You may draw a flowchart by using *powerpoint*, then save it as a picture in `.jpg` or `.png`. Then, use this command to the *Answer* column below.\n",
    "`<img src=_____.jpg>`"
   ]
  },
  {
   "cell_type": "markdown",
   "metadata": {},
   "source": [
    "**Answer**:\n"
   ]
  },
  {
   "cell_type": "markdown",
   "metadata": {},
   "source": [
    "**Step 2**\n",
    "\n",
    "First, let the player choose Rock, Paper or Scissors.\n",
    "#TODO fill in the code below"
   ]
  },
  {
   "cell_type": "code",
   "execution_count": 2,
   "metadata": {},
   "outputs": [
    {
     "name": "stdout",
     "output_type": "stream",
     "text": [
      "Plese Do Yours Choice : rock(r), paper(p) or scissors(s)r\n"
     ]
    }
   ],
   "source": [
    "#TODO\n",
    "#define the Rock(r) Scissors(s) Paper(p) dictionary\n",
    "list = {'r':\"Rock\",'s':\"Scissors\",'p':\"Paper\"}\n",
    "#Define the list that player wins\n",
    "win_list = [('r','s'),('s','p'),('p','r')]\n",
    "# input a player's choice, either rock(r), paper(p) or scissors(s)\n",
    "player = input(\"Plese Do Yours Choice : rock(r), paper(p) or scissors(s)\")"
   ]
  },
  {
   "cell_type": "markdown",
   "metadata": {},
   "source": [
    "**Step 2**\n",
    "\n",
    "#TODO\n",
    "\n",
    "Write a function that has `if` statement to `print` what player chose."
   ]
  },
  {
   "cell_type": "code",
   "execution_count": 3,
   "metadata": {},
   "outputs": [
    {
     "name": "stdout",
     "output_type": "stream",
     "text": [
      "Rock\n"
     ]
    }
   ],
   "source": [
    "#TODO \n",
    "#Show the player's choice\n",
    "def player_choose(player):\n",
    "    #If the player input the valid value\n",
    "    if player in list:\n",
    "        return list[player]\n",
    "    #If not . return the false\n",
    "    else:\n",
    "        return \"Invalid value input .Plese try again\"\n",
    "player_chose = player_choose(player)\n",
    "print(player_chose)"
   ]
  },
  {
   "cell_type": "markdown",
   "metadata": {},
   "source": [
    "**Step 3**\n",
    "\n",
    "#TODO\n",
    "Now it is the computer's turn. `randint` function is used to generate a random number to decide between rock, paper and scissors.\n",
    "Write a function that contain the `if` statement to shows and decide what computer chose."
   ]
  },
  {
   "cell_type": "code",
   "execution_count": 4,
   "metadata": {},
   "outputs": [
    {
     "name": "stdout",
     "output_type": "stream",
     "text": [
      "Rock\n"
     ]
    }
   ],
   "source": [
    "#TODO \n",
    "chosen = random.choice(['r','p','s'])\n",
    "def computer_choose(chosen):\n",
    "    return list[chosen]\n",
    "\n",
    "computer = computer_choose(chosen)\n",
    "print(computer)"
   ]
  },
  {
   "cell_type": "markdown",
   "metadata": {},
   "source": [
    "**Step 4**\n",
    "\n",
    "#TODO\n",
    "By using `if` function and rules stated above, determine who is going to win the game. It will be either the computer or the player."
   ]
  },
  {
   "cell_type": "code",
   "execution_count": 5,
   "metadata": {},
   "outputs": [
    {
     "name": "stdout",
     "output_type": "stream",
     "text": [
      "Rock  vs  Rock\n",
      "Draw\n"
     ]
    }
   ],
   "source": [
    "#TODO\n",
    "\n",
    "def determine_winner(player,computer):\n",
    "    if player == computer:\n",
    "        return \"Draw\"\n",
    "    elif (player,computer) in win_list:\n",
    "        return \"Player Wins\"\n",
    "    else:\n",
    "        return \"Computer Wins\"\n",
    "\n",
    "print(player_chose, \" vs \", computer)\n",
    "print(determine_winner(player_chose,computer))"
   ]
  },
  {
   "cell_type": "markdown",
   "metadata": {},
   "source": [
    "**Bonus**\n",
    "\n",
    "#TODO\n",
    "For example, if the player want to play the game for few times that player wants, and winner is determined based on how many wins they will get. If it is a draw, it is necessary to find a winner again.\n",
    "\n",
    "Create a for loop based on the above situation."
   ]
  },
  {
   "cell_type": "code",
   "execution_count": 7,
   "metadata": {},
   "outputs": [
    {
     "name": "stdout",
     "output_type": "stream",
     "text": [
      "Number of times to play:\n",
      "3\n",
      "Plese Do Yours Choice : rock(r), paper(p) or scissors(s)s\n",
      "Player Chose : Scissors\n",
      "Computer Chose : Scissors\n",
      "Draw\n",
      "Plese Do Yours Choice : rock(r), paper(p) or scissors(s)s\n",
      "Player Chose : Scissors\n",
      "Computer Chose : Scissors\n",
      "Draw\n",
      "Plese Do Yours Choice : rock(r), paper(p) or scissors(s)s\n",
      "Player Chose : Scissors\n",
      "Computer Chose : Rock\n",
      "Computer Wins\n",
      "You have played for 3 game(s), You won 0 time(s),Computer won 1 time(s),Draw 2 time(s)\n",
      "Final Result : Computer Wins\n",
      "What about one more game. : (y/n)n\n",
      "Thank You For Playing\n"
     ]
    }
   ],
   "source": [
    "#TODO\n",
    "\n",
    "def new_determine_winner(player,chosen):\n",
    "    global Computer_win,Player_win,Draw_time\n",
    "    if player == chosen:\n",
    "        print(\"Draw\")\n",
    "        Draw_time += 1\n",
    "    elif (player,chosen) in win_list:\n",
    "        print(\"Player Wins\")\n",
    "        Player_win += 1\n",
    "    else:\n",
    "        print(\"Computer Wins\")\n",
    "        Computer_win += 1\n",
    "        \n",
    "def show_result():\n",
    "    global flag1\n",
    "    print(\"You have played for {} game(s), You won {} time(s),Computer won {} time(s),Draw {} time(s)\".format(N,Player_win,Computer_win,Draw_time))\n",
    "    if Player_win == Computer_win:\n",
    "        print(\"Final Result : Draw\")       \n",
    "    elif Player_win > Computer_win:\n",
    "        print(\"Final Result : Player Wins\")\n",
    "    else:\n",
    "        print(\"Final Result : Computer Wins\")\n",
    "Computer_win = 0\n",
    "Player_win = 0\n",
    "Draw_time = 0\n",
    "flag2 = 1\n",
    "while flag2 == 1:\n",
    "    print(\"Number of times to play:\")\n",
    "    N = int(input())\n",
    "    for i in range(N):\n",
    "        #set flag1 and while loop to make sure player input the valid value\n",
    "        flag1 = 1\n",
    "        while flag1 == 1:\n",
    "            player = input(\"Plese Do Yours Choice : rock(r), paper(p) or scissors(s)\")\n",
    "            player_chose = player_choose(player)\n",
    "            #if Invalid value input . back to the shile flag1 loop to repeat player_chose step\n",
    "            if player not in ['r','s','p']:\n",
    "                print(\"Invalid value input .Please Try Again\")\n",
    "                continue\n",
    "            #if the player input the valid value. set flag1 = 0 to \n",
    "            else:\n",
    "                flag1 = 0\n",
    "            chosen = random.choice(['r','p','s'])\n",
    "            computer_chose = computer_choose(chosen)\n",
    "            print(\"Player Chose : {}\".format(player_chose))\n",
    "            print(\"Computer Chose : {}\".format(computer_chose))\n",
    "            new_determine_winner(player,chosen)\n",
    "    show_result()\n",
    "    #choose if player want to continue or not . And set a while loop to make sure player input the valid value\n",
    "    while True: \n",
    "        con = input(\"What about one more game. : (y/n)\")\n",
    "        if con == 'y':\n",
    "            break\n",
    "        #if not. set flag2 = 0 to get out of the first while loop to end the game\n",
    "        elif con == 'n':\n",
    "            flag2 = 0\n",
    "            break\n",
    "        else:\n",
    "            print(\"Invalid value input .Please Try Again\")\n",
    "            continue\n",
    "print(\"Thank You For Playing\")\n",
    "#write another if function to determine who wins overall."
   ]
  },
  {
   "cell_type": "markdown",
   "metadata": {},
   "source": [
    "**Question 3**:\n",
    "\n",
    "What is the difficulty of creating this game by using python?"
   ]
  },
  {
   "cell_type": "markdown",
   "metadata": {},
   "source": [
    "**Answer**:The first difficulty is how to solve invalid input values.And the second is if player want to continue this game. How to do that."
   ]
  },
  {
   "cell_type": "code",
   "execution_count": null,
   "metadata": {},
   "outputs": [],
   "source": []
  }
 ],
 "metadata": {
  "kernelspec": {
   "display_name": "Python 3",
   "language": "python",
   "name": "python3"
  },
  "language_info": {
   "codemirror_mode": {
    "name": "ipython",
    "version": 3
   },
   "file_extension": ".py",
   "mimetype": "text/x-python",
   "name": "python",
   "nbconvert_exporter": "python",
   "pygments_lexer": "ipython3",
   "version": "3.7.3"
  }
 },
 "nbformat": 4,
 "nbformat_minor": 2
}
